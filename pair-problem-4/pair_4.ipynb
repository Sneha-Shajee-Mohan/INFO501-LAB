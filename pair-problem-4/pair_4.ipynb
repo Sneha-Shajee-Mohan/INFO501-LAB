{
  "cells": [
    {
      "cell_type": "markdown",
      "id": "20032fda-4f5e-481b-9e70-d76745971669",
      "metadata": {
        "id": "20032fda-4f5e-481b-9e70-d76745971669"
      },
      "source": [
        "# Pair Problems: Recursion\n",
        "\n",
        "A [recursive function](https://www.w3schools.com/python/gloss_python_function_recursion.asp) is one which calls itself.\n",
        "\n",
        "1. When the function is called, your CPU runs through each line of code until the function is called again. (Take a look at the *factorial_stack.png* file.)\n",
        "2. At that point, all variables are saved in memory, and the function runs through each line of code again until the function is called (again, but with a different passed argument), and so on.\n",
        "3. Eventually, this process will stop at the \"bottom of the **stack**\", where the function doesn't get a chance to call itself again (likely because of some condition un/met by the latest passed argument).\n",
        "4. Then, your CPU will work its way back up the stack to the final result.\n",
        "\n",
        "When you write these functions, keep two things in mind:\n",
        "- You will need a built-in stopping point (i.e., the \"bottom\"), where your function returns some result before it calls itself.\n",
        "- **Don't think too hard about this.** This is hard to conceptualize when writing the code. When you call the function inside the function, think about it as a magical \"hidden\" function that has already done what you want it to do."
      ]
    },
    {
      "cell_type": "markdown",
      "id": "843f1217-3f89-4dce-b192-577e2520b785",
      "metadata": {
        "id": "843f1217-3f89-4dce-b192-577e2520b785"
      },
      "source": [
        "## Problem 1: Factorial\n",
        "\n",
        "We write \"`n` factorial\" as `n!`. It is the product of all the numbers up to, and including `n`:\n",
        "\n",
        "`8! = 1 x 2 x 3 x 4 x 5 x 6 x 7 x 8 = 40320`\n",
        "\n",
        "Use recursion to write a function that calculates the factorial of a given integer.\n",
        "\n",
        "*Caution: Unless you solve the bonus problem, below, I recommend testing this out on small numbers less than 10.*"
      ]
    },
    {
      "cell_type": "code",
      "execution_count": 5,
      "id": "5c80412d",
      "metadata": {},
      "outputs": [
        {
          "name": "stdout",
          "output_type": "stream",
          "text": [
            "8! = 40320\n"
          ]
        }
      ],
      "source": [
        "def factorial(n):\n",
        "    if n == 0 or n==1:\n",
        "        return 1\n",
        "    else :\n",
        "        return n * factorial(n-1)\n",
        "\n",
        "answer = factorial(8)\n",
        "print(f\"8! = {answer}\")"
      ]
    },
    {
      "cell_type": "markdown",
      "id": "e6f3a8f5-f208-402d-a4fc-f64f96dacaaf",
      "metadata": {
        "id": "e6f3a8f5-f208-402d-a4fc-f64f96dacaaf"
      },
      "source": [
        "## Problem 2: Fibonacci Series\n",
        "\n",
        "The Fibonacci Series (`fib`) starts with 0 and 1. Each of the following numbers are the sum of the previous two numbers in the series:\n",
        "\n",
        "`0 1 1 2 3 5 8 13 21 34 ...`\n",
        "\n",
        "So, `fib(9) = 34`.\n",
        "\n",
        "Write a recursive function that, given `n`, will return the `n`th number of the Fibonacci Series."
      ]
    },
    {
      "cell_type": "code",
      "execution_count": 6,
      "id": "ce6648f8",
      "metadata": {},
      "outputs": [
        {
          "name": "stdout",
          "output_type": "stream",
          "text": [
            "fib(9) = 34\n"
          ]
        }
      ],
      "source": [
        "def fibonacci(n):\n",
        "    if n == 0:\n",
        "        return 0\n",
        "    elif n == 1:\n",
        "        return 1\n",
        "    else:\n",
        "        return fibonacci(n-1) + fibonacci(n-2)\n",
        "    \n",
        "answer = fibonacci(9)\n",
        "print(f\"fib(9) = {answer}\")\n",
        "                         \n",
        "                "
      ]
    },
    {
      "cell_type": "markdown",
      "id": "d3f92d93-d69d-493d-a6b9-f00e7a198d32",
      "metadata": {
        "id": "d3f92d93-d69d-493d-a6b9-f00e7a198d32"
      },
      "source": [
        "## Bonus (OPTIONAL)\n",
        "\n",
        "*Below is a discussion on topics discusssed in a later week ... Take a look only if you are quite comfortable with coding already!*\n",
        "\n",
        "You may find that these functions get slower as `n` increases. In fact, for a large enough `n`, they might take longer than you're willing to wait for a result. With recursive functions, its often a good idea to use **memoization** to optimize your code. There are a few different ways to accomplish memoization in Python, but the simplest, most straight forward method involves [using dictionaries](https://www.codecademy.com/resources/docs/python/memoization).\n",
        "\n",
        "Incorporate memoization into your code for both problem 1 and 2 (at least problem 2) to speed up the calculations for larger `n` values.\n",
        "\n",
        "*Hint: You might like to use [`defaultdict` from the `collections` library](https://www.educative.io/answers/learning-about-defaultdict-in-python).*"
      ]
    },
    {
      "cell_type": "code",
      "execution_count": null,
      "id": "8536a2e6-e0fd-4d5a-83e2-a464bdf17e0f",
      "metadata": {
        "id": "8536a2e6-e0fd-4d5a-83e2-a464bdf17e0f"
      },
      "outputs": [],
      "source": []
    },
    {
      "cell_type": "markdown",
      "id": "fdd48a3d",
      "metadata": {
        "id": "fdd48a3d"
      },
      "source": []
    }
  ],
  "metadata": {
    "colab": {
      "provenance": []
    },
    "kernelspec": {
      "display_name": "INFO501",
      "language": "python",
      "name": "python3"
    },
    "language_info": {
      "codemirror_mode": {
        "name": "ipython",
        "version": 3
      },
      "file_extension": ".py",
      "mimetype": "text/x-python",
      "name": "python",
      "nbconvert_exporter": "python",
      "pygments_lexer": "ipython3",
      "version": "3.11.7"
    }
  },
  "nbformat": 4,
  "nbformat_minor": 5
}
