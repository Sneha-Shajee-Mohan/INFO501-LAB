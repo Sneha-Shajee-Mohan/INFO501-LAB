{
  "cells": [
    {
      "cell_type": "markdown",
      "id": "0b8c1272-6123-46b8-a703-39dc895bbc6b",
      "metadata": {
        "id": "0b8c1272-6123-46b8-a703-39dc895bbc6b"
      },
      "source": [
        "# Pair Problem: Coins\n",
        "\n",
        "This pair problem is satisfied after you get through the first problem. If you can get through the first problem, please try working on the rest!\n",
        "\n",
        "*Note: Variations 1-3 are optional. :)*"
      ]
    },
    {
      "cell_type": "markdown",
      "id": "dff7dd2b-9adf-45cb-93e9-7e45c607cba3",
      "metadata": {
        "tags": [],
        "id": "dff7dd2b-9adf-45cb-93e9-7e45c607cba3"
      },
      "source": [
        "## pennies and nickels\n",
        "\n",
        "Given enough pennies (1 cent) and nickels (5 cents), write a function, which calculates the number of ways you can make change for a given amount of cents. Do this in two ways:\n",
        "\n",
        "1. Write the function `ways` which does this without using NumPy.\n",
        "2. Write *another* function `ways_np` which does the same thing, but uses NumPy.\n",
        "\n",
        "**Test Cases**\n",
        "\n",
        "```python\n",
        "           --->      (num pennies, num nickels)\n",
        "    \n",
        "ways(12)   ---> 3    [(2, 2), (7, 1), (12, 0)]               \n",
        "ways(20)   ---> 5    [(0, 4), (5, 3), (10, 2), (15, 1), (20, 0)]\n",
        "ways(3)    ---> 1    [(3, 0)]\n",
        "ways(0)    ---> 1    [(0, 0)]\n",
        "```"
      ]
    },
    {
      "cell_type": "code",
      "source": [
        "#With numpy\n",
        "import numpy as np\n",
        "def change(x):\n",
        "    diff = np.floor_divide(x,5)\n",
        "    ways = diff + 1\n",
        "    return ways\n",
        "\n",
        "answer = change(0)\n",
        "print(answer)"
      ],
      "metadata": {
        "id": "0dP5M9zSP739"
      },
      "id": "0dP5M9zSP739",
      "execution_count": null,
      "outputs": []
    },
    {
      "cell_type": "code",
      "execution_count": null,
      "id": "b906e9af-b3b8-4fbe-9262-e9a9314c7b3a",
      "metadata": {
        "tags": [],
        "id": "b906e9af-b3b8-4fbe-9262-e9a9314c7b3a"
      },
      "outputs": [],
      "source": [
        "#Without numpy\n",
        "def change(x):\n",
        "  diff = x // 5\n",
        "  ways = diff + 1\n",
        "  return ways\n",
        "\n",
        "answer = change(12)\n",
        "print(answer)"
      ]
    },
    {
      "cell_type": "markdown",
      "id": "db009987-9189-40d9-b08b-a330648f749b",
      "metadata": {
        "id": "db009987-9189-40d9-b08b-a330648f749b"
      },
      "source": [
        "## Optional Variation"
      ]
    },
    {
      "cell_type": "markdown",
      "id": "8d2149fe-2706-4f3d-ae81-20e48cb11b7f",
      "metadata": {
        "id": "8d2149fe-2706-4f3d-ae81-20e48cb11b7f"
      },
      "source": [
        "Update `ways` to incorporate an *arbitrary* set of coin values.\n",
        "\n",
        "I.e., your function should now look something like this:\n",
        "\n",
        "```python\n",
        "def ways(cents, coin_types):\n",
        "    # code code ...\n",
        "\n",
        ">>> ways(100, [25, 10, 5, 1])\n",
        ">>> 242\n",
        "```"
      ]
    },
    {
      "cell_type": "code",
      "execution_count": null,
      "id": "529e4cfc-5382-430e-9864-982882ca5e7b",
      "metadata": {
        "tags": [],
        "id": "529e4cfc-5382-430e-9864-982882ca5e7b"
      },
      "outputs": [],
      "source": [
        "# your code here"
      ]
    },
    {
      "cell_type": "code",
      "execution_count": null,
      "id": "9eb24ebc-37f9-4c50-9b92-7aa00c2a13d4",
      "metadata": {
        "id": "9eb24ebc-37f9-4c50-9b92-7aa00c2a13d4"
      },
      "outputs": [],
      "source": []
    }
  ],
  "metadata": {
    "kernelspec": {
      "display_name": "i501",
      "language": "python",
      "name": "i501"
    },
    "language_info": {
      "codemirror_mode": {
        "name": "ipython",
        "version": 3
      },
      "file_extension": ".py",
      "mimetype": "text/x-python",
      "name": "python",
      "nbconvert_exporter": "python",
      "pygments_lexer": "ipython3",
      "version": "3.10.13"
    },
    "colab": {
      "provenance": []
    }
  },
  "nbformat": 4,
  "nbformat_minor": 5
}